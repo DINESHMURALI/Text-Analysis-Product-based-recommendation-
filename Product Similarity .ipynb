{
 "cells": [
  {
   "cell_type": "code",
   "execution_count": 1,
   "metadata": {},
   "outputs": [],
   "source": [
    "#from surprise import KNNWithZScore\n",
    "#from surprise import Reader,Dataset\n",
    "import pandas as pd\n",
    "import numpy as np\n",
    "from sklearn.neighbors import NearestNeighbors\n",
    "#from sklearn.cluster import KMeans"
   ]
  },
  {
   "cell_type": "code",
   "execution_count": 2,
   "metadata": {},
   "outputs": [],
   "source": [
    "import nltk\n",
    "from nltk.corpus import stopwords\n",
    "import re\n",
    "from nltk.stem import PorterStemmer"
   ]
  },
  {
   "cell_type": "code",
   "execution_count": 3,
   "metadata": {},
   "outputs": [
    {
     "data": {
      "text/html": [
       "<div>\n",
       "<style scoped>\n",
       "    .dataframe tbody tr th:only-of-type {\n",
       "        vertical-align: middle;\n",
       "    }\n",
       "\n",
       "    .dataframe tbody tr th {\n",
       "        vertical-align: top;\n",
       "    }\n",
       "\n",
       "    .dataframe thead th {\n",
       "        text-align: right;\n",
       "    }\n",
       "</style>\n",
       "<table border=\"1\" class=\"dataframe\">\n",
       "  <thead>\n",
       "    <tr style=\"text-align: right;\">\n",
       "      <th></th>\n",
       "      <th>ProductId</th>\n",
       "      <th>Title</th>\n",
       "      <th>Image URL</th>\n",
       "      <th>Division</th>\n",
       "      <th>Category</th>\n",
       "      <th>Sub category</th>\n",
       "      <th>Article type</th>\n",
       "      <th>Offer price</th>\n",
       "      <th>Sale price</th>\n",
       "      <th>Color</th>\n",
       "      <th>Gender</th>\n",
       "    </tr>\n",
       "  </thead>\n",
       "  <tbody>\n",
       "    <tr>\n",
       "      <th>0</th>\n",
       "      <td>E8AC41D107EA5DBB5DF561A684899B38</td>\n",
       "      <td>Color Dose Pearls Bronze 59 Nail Polish</td>\n",
       "      <td>https://media6.ppl-media.com/tr:h-750,w-750,c-...</td>\n",
       "      <td>Makeup</td>\n",
       "      <td>Nails</td>\n",
       "      <td>Nail Polish</td>\n",
       "      <td>Nail Polish</td>\n",
       "      <td>59</td>\n",
       "      <td>59</td>\n",
       "      <td>Color Dose</td>\n",
       "      <td>women</td>\n",
       "    </tr>\n",
       "    <tr>\n",
       "      <th>1</th>\n",
       "      <td>04AE770377AABCCBCCDD5FBC93CC83E1</td>\n",
       "      <td>Rimmel Space Dust Nail Polish - Luna Love #004</td>\n",
       "      <td>https://media6.ppl-media.com/tr:h-750,w-750,c-...</td>\n",
       "      <td>Makeup</td>\n",
       "      <td>Nails</td>\n",
       "      <td>Nail Polish</td>\n",
       "      <td>Nail Polish</td>\n",
       "      <td>310</td>\n",
       "      <td>310</td>\n",
       "      <td>Rimmel</td>\n",
       "      <td>women</td>\n",
       "    </tr>\n",
       "    <tr>\n",
       "      <th>2</th>\n",
       "      <td>21B0CF144B3CFFDDCCE4937C7731A7CE</td>\n",
       "      <td>Color Dose Pearls Copper Rust 58 Nail Polish</td>\n",
       "      <td>https://media6.ppl-media.com/tr:h-750,w-750,c-...</td>\n",
       "      <td>Makeup</td>\n",
       "      <td>Nails</td>\n",
       "      <td>Nail Polish</td>\n",
       "      <td>Nail Polish</td>\n",
       "      <td>59</td>\n",
       "      <td>59</td>\n",
       "      <td>Color Dose</td>\n",
       "      <td>women</td>\n",
       "    </tr>\n",
       "    <tr>\n",
       "      <th>3</th>\n",
       "      <td>129CE0C7596D2D346E5CDC54E55A3A67</td>\n",
       "      <td>Color Dose Matt Nude 25 Nail Polish</td>\n",
       "      <td>https://media6.ppl-media.com/tr:h-235,w-235,c-...</td>\n",
       "      <td>NaN</td>\n",
       "      <td>Nails</td>\n",
       "      <td>Nail Polish</td>\n",
       "      <td>Nail Polish</td>\n",
       "      <td>59</td>\n",
       "      <td>59</td>\n",
       "      <td>color dose</td>\n",
       "      <td>women</td>\n",
       "    </tr>\n",
       "  </tbody>\n",
       "</table>\n",
       "</div>"
      ],
      "text/plain": [
       "                          ProductId  \\\n",
       "0  E8AC41D107EA5DBB5DF561A684899B38   \n",
       "1  04AE770377AABCCBCCDD5FBC93CC83E1   \n",
       "2  21B0CF144B3CFFDDCCE4937C7731A7CE   \n",
       "3  129CE0C7596D2D346E5CDC54E55A3A67   \n",
       "\n",
       "                                            Title  \\\n",
       "0         Color Dose Pearls Bronze 59 Nail Polish   \n",
       "1  Rimmel Space Dust Nail Polish - Luna Love #004   \n",
       "2    Color Dose Pearls Copper Rust 58 Nail Polish   \n",
       "3             Color Dose Matt Nude 25 Nail Polish   \n",
       "\n",
       "                                           Image URL Division Category  \\\n",
       "0  https://media6.ppl-media.com/tr:h-750,w-750,c-...   Makeup    Nails   \n",
       "1  https://media6.ppl-media.com/tr:h-750,w-750,c-...   Makeup    Nails   \n",
       "2  https://media6.ppl-media.com/tr:h-750,w-750,c-...   Makeup    Nails   \n",
       "3  https://media6.ppl-media.com/tr:h-235,w-235,c-...      NaN    Nails   \n",
       "\n",
       "  Sub category Article type  Offer price  Sale price       Color Gender  \n",
       "0  Nail Polish  Nail Polish           59          59  Color Dose  women  \n",
       "1  Nail Polish  Nail Polish          310         310      Rimmel  women  \n",
       "2  Nail Polish  Nail Polish           59          59  Color Dose  women  \n",
       "3  Nail Polish  Nail Polish           59          59  color dose  women  "
      ]
     },
     "execution_count": 3,
     "metadata": {},
     "output_type": "execute_result"
    }
   ],
   "source": [
    "product=pd.read_csv('products - Sheet1.csv')\n",
    "product.head(4)"
   ]
  },
  {
   "cell_type": "code",
   "execution_count": 4,
   "metadata": {},
   "outputs": [],
   "source": [
    "text_title=product.Title"
   ]
  },
  {
   "cell_type": "code",
   "execution_count": 7,
   "metadata": {},
   "outputs": [],
   "source": [
    "stm=PorterStemmer()\n",
    "timer=0\n",
    "final_v1=pd.DataFrame(columns=['Text'])\n",
    "for text in text_title:\n",
    "    sent=text.lower()\n",
    "    sent=nltk.word_tokenize(sent)\n",
    "    fsent=''\n",
    "    for words in sent:\n",
    "        if words not in stopwords.words('english') and re.match('[a-z0-9 ]',words):\n",
    "            words=stm.stem(words)\n",
    "            fsent=fsent+words+' '\n",
    "    timer=timer+1\n",
    "    #print(7000-timer,' left')\n",
    "    final_v1=final_v1.append({'Text':fsent},ignore_index=True)"
   ]
  },
  {
   "cell_type": "code",
   "execution_count": 8,
   "metadata": {},
   "outputs": [],
   "source": [
    "from sklearn.feature_extraction.text import CountVectorizer"
   ]
  },
  {
   "cell_type": "code",
   "execution_count": 9,
   "metadata": {},
   "outputs": [],
   "source": [
    "vectorizer=CountVectorizer()\n",
    "vectorizer.fit(final_v1.Text)\n",
    "news_trans=vectorizer.transform(final_v1.Text)"
   ]
  },
  {
   "cell_type": "code",
   "execution_count": 13,
   "metadata": {},
   "outputs": [],
   "source": [
    "text_df=pd.DataFrame(news_trans.toarray(),columns=vectorizer.get_feature_names())"
   ]
  },
  {
   "cell_type": "code",
   "execution_count": 14,
   "metadata": {},
   "outputs": [],
   "source": [
    "product=product.drop(['Title','Image URL'],axis=1)"
   ]
  },
  {
   "cell_type": "code",
   "execution_count": 15,
   "metadata": {},
   "outputs": [],
   "source": [
    "product.Division=product.Division.fillna(method='ffill')\n",
    "product.Color=product.Color.fillna(method='ffill')"
   ]
  },
  {
   "cell_type": "code",
   "execution_count": 17,
   "metadata": {},
   "outputs": [],
   "source": [
    "final_dum1=pd.get_dummies(product.drop('ProductId',axis=1))"
   ]
  },
  {
   "cell_type": "code",
   "execution_count": 18,
   "metadata": {},
   "outputs": [],
   "source": [
    "final_dum_cp=final_dum1"
   ]
  },
  {
   "cell_type": "code",
   "execution_count": 19,
   "metadata": {},
   "outputs": [],
   "source": [
    "last=pd.concat([final_dum_cp,text_df],axis=1)"
   ]
  },
  {
   "cell_type": "code",
   "execution_count": 25,
   "metadata": {},
   "outputs": [],
   "source": [
    "last['ProductId']=product.ProductId"
   ]
  },
  {
   "cell_type": "code",
   "execution_count": 26,
   "metadata": {},
   "outputs": [],
   "source": [
    "nbrs = NearestNeighbors(n_neighbors=10, algorithm='ball_tree').fit"
   ]
  },
  {
   "cell_type": "code",
   "execution_count": 63,
   "metadata": {},
   "outputs": [],
   "source": [
    "#distances, indices = nbrs.kneighbors(final_dummies)\n",
    "#prod_id=input(\"Enter id\")\n",
    "#valid=final_dummies[final_dummies.ProductId==prod_id]"
   ]
  },
  {
   "cell_type": "code",
   "execution_count": 27,
   "metadata": {},
   "outputs": [
    {
     "name": "stdout",
     "output_type": "stream",
     "text": [
      "Enter id Color Dose Pearls Bronze 59 Nail Polish\n"
     ]
    }
   ],
   "source": [
    "prodId=input('Enter id ')\n",
    "valid=last[last.ProductId==prodId]"
   ]
  },
  {
   "cell_type": "code",
   "execution_count": 30,
   "metadata": {},
   "outputs": [
    {
     "ename": "AttributeError",
     "evalue": "'function' object has no attribute 'fit'",
     "output_type": "error",
     "traceback": [
      "\u001b[1;31m---------------------------------------------------------------------------\u001b[0m",
      "\u001b[1;31mAttributeError\u001b[0m                            Traceback (most recent call last)",
      "\u001b[1;32m<ipython-input-30-59742f6a8546>\u001b[0m in \u001b[0;36m<module>\u001b[1;34m\u001b[0m\n\u001b[1;32m----> 1\u001b[1;33m \u001b[0mdist\u001b[0m\u001b[1;33m,\u001b[0m\u001b[0mindices\u001b[0m\u001b[1;33m=\u001b[0m\u001b[0mnbrs\u001b[0m\u001b[1;33m.\u001b[0m\u001b[0mfit\u001b[0m\u001b[1;33m(\u001b[0m\u001b[0mX\u001b[0m\u001b[1;33m=\u001b[0m\u001b[0mvalid\u001b[0m\u001b[1;33m.\u001b[0m\u001b[0mdrop\u001b[0m\u001b[1;33m(\u001b[0m\u001b[1;34m'ProductId'\u001b[0m\u001b[1;33m,\u001b[0m\u001b[0maxis\u001b[0m\u001b[1;33m=\u001b[0m\u001b[1;36m1\u001b[0m\u001b[1;33m)\u001b[0m\u001b[1;33m,\u001b[0m\u001b[0mn_neighbors\u001b[0m\u001b[1;33m=\u001b[0m\u001b[1;36m10\u001b[0m\u001b[1;33m)\u001b[0m\u001b[1;33m\u001b[0m\u001b[1;33m\u001b[0m\u001b[0m\n\u001b[0m",
      "\u001b[1;31mAttributeError\u001b[0m: 'function' object has no attribute 'fit'"
     ]
    }
   ],
   "source": [
    "dist,indices=nbrs.(X=valid.drop('ProductId',axis=1),n_neighbors=10)"
   ]
  },
  {
   "cell_type": "code",
   "execution_count": 32,
   "metadata": {},
   "outputs": [],
   "source": [
    "final_df=pd.DataFrame(columns=product.columns)\n",
    "for ind in indices:\n",
    "    final_df=final_df.append(product.iloc[ind])\n",
    "    \n",
    "    \n",
    "    "
   ]
  },
  {
   "cell_type": "code",
   "execution_count": 33,
   "metadata": {},
   "outputs": [
    {
     "data": {
      "text/html": [
       "<div>\n",
       "<style scoped>\n",
       "    .dataframe tbody tr th:only-of-type {\n",
       "        vertical-align: middle;\n",
       "    }\n",
       "\n",
       "    .dataframe tbody tr th {\n",
       "        vertical-align: top;\n",
       "    }\n",
       "\n",
       "    .dataframe thead th {\n",
       "        text-align: right;\n",
       "    }\n",
       "</style>\n",
       "<table border=\"1\" class=\"dataframe\">\n",
       "  <thead>\n",
       "    <tr style=\"text-align: right;\">\n",
       "      <th></th>\n",
       "      <th>ProductId</th>\n",
       "      <th>Division</th>\n",
       "      <th>Category</th>\n",
       "      <th>Sub category</th>\n",
       "      <th>Article type</th>\n",
       "      <th>Offer price</th>\n",
       "      <th>Sale price</th>\n",
       "      <th>Color</th>\n",
       "      <th>Gender</th>\n",
       "    </tr>\n",
       "  </thead>\n",
       "  <tbody>\n",
       "    <tr>\n",
       "      <th>0</th>\n",
       "      <td>E8AC41D107EA5DBB5DF561A684899B38</td>\n",
       "      <td>Makeup</td>\n",
       "      <td>Nails</td>\n",
       "      <td>Nail Polish</td>\n",
       "      <td>Nail Polish</td>\n",
       "      <td>59</td>\n",
       "      <td>59</td>\n",
       "      <td>Color Dose</td>\n",
       "      <td>women</td>\n",
       "    </tr>\n",
       "    <tr>\n",
       "      <th>2</th>\n",
       "      <td>21B0CF144B3CFFDDCCE4937C7731A7CE</td>\n",
       "      <td>Makeup</td>\n",
       "      <td>Nails</td>\n",
       "      <td>Nail Polish</td>\n",
       "      <td>Nail Polish</td>\n",
       "      <td>59</td>\n",
       "      <td>59</td>\n",
       "      <td>Color Dose</td>\n",
       "      <td>women</td>\n",
       "    </tr>\n",
       "    <tr>\n",
       "      <th>3</th>\n",
       "      <td>129CE0C7596D2D346E5CDC54E55A3A67</td>\n",
       "      <td>Makeup</td>\n",
       "      <td>Nails</td>\n",
       "      <td>Nail Polish</td>\n",
       "      <td>Nail Polish</td>\n",
       "      <td>59</td>\n",
       "      <td>59</td>\n",
       "      <td>color dose</td>\n",
       "      <td>women</td>\n",
       "    </tr>\n",
       "    <tr>\n",
       "      <th>3050</th>\n",
       "      <td>49A302A5541D8D81BBF75018BB7C5139</td>\n",
       "      <td>Makeup</td>\n",
       "      <td>Hair Care and Styling</td>\n",
       "      <td>Hair Color</td>\n",
       "      <td>Hair Color</td>\n",
       "      <td>60</td>\n",
       "      <td>60</td>\n",
       "      <td>khadi</td>\n",
       "      <td>women</td>\n",
       "    </tr>\n",
       "    <tr>\n",
       "      <th>6885</th>\n",
       "      <td>4418A925F29D1C784E63A1465DAAF1A8</td>\n",
       "      <td>Wellness</td>\n",
       "      <td>Condoms</td>\n",
       "      <td>Durex Condoms</td>\n",
       "      <td>Durex Condoms</td>\n",
       "      <td>60</td>\n",
       "      <td>60</td>\n",
       "      <td>Durex</td>\n",
       "      <td>women</td>\n",
       "    </tr>\n",
       "    <tr>\n",
       "      <th>6936</th>\n",
       "      <td>6C44B35677DA4F58F1CA6A0FDD755AAA</td>\n",
       "      <td>Body</td>\n",
       "      <td>Hand And Nail Care</td>\n",
       "      <td>Manicure</td>\n",
       "      <td>Manicure</td>\n",
       "      <td>60</td>\n",
       "      <td>60</td>\n",
       "      <td>Kaiv</td>\n",
       "      <td>women</td>\n",
       "    </tr>\n",
       "    <tr>\n",
       "      <th>6887</th>\n",
       "      <td>3F3BF37F84C089EBCBBE486463EA44CF</td>\n",
       "      <td>Wellness</td>\n",
       "      <td>Condoms</td>\n",
       "      <td>Durex Condoms</td>\n",
       "      <td>Durex Condoms</td>\n",
       "      <td>60</td>\n",
       "      <td>60</td>\n",
       "      <td>Durex</td>\n",
       "      <td>women</td>\n",
       "    </tr>\n",
       "    <tr>\n",
       "      <th>6878</th>\n",
       "      <td>789117106FB7064A80F7F15D70E64888</td>\n",
       "      <td>Wellness</td>\n",
       "      <td>Condoms</td>\n",
       "      <td>Durex Condoms</td>\n",
       "      <td>Durex Condoms</td>\n",
       "      <td>60</td>\n",
       "      <td>60</td>\n",
       "      <td>Durex</td>\n",
       "      <td>women</td>\n",
       "    </tr>\n",
       "    <tr>\n",
       "      <th>6893</th>\n",
       "      <td>F2812550583E52A3C95960A58B7AAA6C</td>\n",
       "      <td>Wellness</td>\n",
       "      <td>Condoms</td>\n",
       "      <td>Durex Condoms</td>\n",
       "      <td>Durex Condoms</td>\n",
       "      <td>60</td>\n",
       "      <td>60</td>\n",
       "      <td>Durex</td>\n",
       "      <td>women</td>\n",
       "    </tr>\n",
       "    <tr>\n",
       "      <th>1235</th>\n",
       "      <td>0E99130218B790AC7EC597235436CA99</td>\n",
       "      <td>Body</td>\n",
       "      <td>Soap</td>\n",
       "      <td>Handmade Soaps</td>\n",
       "      <td>Handmade Soaps</td>\n",
       "      <td>59</td>\n",
       "      <td>59</td>\n",
       "      <td>Mirah Belle</td>\n",
       "      <td>women</td>\n",
       "    </tr>\n",
       "  </tbody>\n",
       "</table>\n",
       "</div>"
      ],
      "text/plain": [
       "                             ProductId  Division               Category  \\\n",
       "0     E8AC41D107EA5DBB5DF561A684899B38    Makeup                  Nails   \n",
       "2     21B0CF144B3CFFDDCCE4937C7731A7CE    Makeup                  Nails   \n",
       "3     129CE0C7596D2D346E5CDC54E55A3A67    Makeup                  Nails   \n",
       "3050  49A302A5541D8D81BBF75018BB7C5139    Makeup  Hair Care and Styling   \n",
       "6885  4418A925F29D1C784E63A1465DAAF1A8  Wellness                Condoms   \n",
       "6936  6C44B35677DA4F58F1CA6A0FDD755AAA      Body     Hand And Nail Care   \n",
       "6887  3F3BF37F84C089EBCBBE486463EA44CF  Wellness                Condoms   \n",
       "6878  789117106FB7064A80F7F15D70E64888  Wellness                Condoms   \n",
       "6893  F2812550583E52A3C95960A58B7AAA6C  Wellness                Condoms   \n",
       "1235  0E99130218B790AC7EC597235436CA99      Body                   Soap   \n",
       "\n",
       "        Sub category    Article type Offer price Sale price        Color  \\\n",
       "0        Nail Polish     Nail Polish          59         59   Color Dose   \n",
       "2        Nail Polish     Nail Polish          59         59   Color Dose   \n",
       "3        Nail Polish     Nail Polish          59         59   color dose   \n",
       "3050      Hair Color      Hair Color          60         60        khadi   \n",
       "6885   Durex Condoms   Durex Condoms          60         60        Durex   \n",
       "6936        Manicure        Manicure          60         60         Kaiv   \n",
       "6887   Durex Condoms   Durex Condoms          60         60        Durex   \n",
       "6878   Durex Condoms   Durex Condoms          60         60        Durex   \n",
       "6893   Durex Condoms   Durex Condoms          60         60        Durex   \n",
       "1235  Handmade Soaps  Handmade Soaps          59         59  Mirah Belle   \n",
       "\n",
       "     Gender  \n",
       "0     women  \n",
       "2     women  \n",
       "3     women  \n",
       "3050  women  \n",
       "6885  women  \n",
       "6936  women  \n",
       "6887  women  \n",
       "6878  women  \n",
       "6893  women  \n",
       "1235  women  "
      ]
     },
     "execution_count": 33,
     "metadata": {},
     "output_type": "execute_result"
    }
   ],
   "source": [
    "final_df"
   ]
  },
  {
   "cell_type": "code",
   "execution_count": 35,
   "metadata": {},
   "outputs": [],
   "source": [
    "final_df.to_csv('top_10_product.csv')"
   ]
  },
  {
   "cell_type": "code",
   "execution_count": null,
   "metadata": {},
   "outputs": [],
   "source": []
  }
 ],
 "metadata": {
  "kernelspec": {
   "display_name": "Python 3",
   "language": "python",
   "name": "python3"
  },
  "language_info": {
   "codemirror_mode": {
    "name": "ipython",
    "version": 3
   },
   "file_extension": ".py",
   "mimetype": "text/x-python",
   "name": "python",
   "nbconvert_exporter": "python",
   "pygments_lexer": "ipython3",
   "version": "3.7.1"
  }
 },
 "nbformat": 4,
 "nbformat_minor": 2
}
